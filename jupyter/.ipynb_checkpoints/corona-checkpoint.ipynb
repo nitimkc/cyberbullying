{
 "cells": [
  {
   "cell_type": "code",
   "execution_count": 5,
   "metadata": {},
   "outputs": [],
   "source": [
    "import glob \n",
    "from pathlib import Path\n",
    "import pandas as pd\n",
    "import numpy as np\n",
    "import os\n",
    "\n",
    "import matplotlib.pyplot as plt\n",
    "import matplotlib.dates as mdates"
   ]
  },
  {
   "cell_type": "code",
   "execution_count": 6,
   "metadata": {},
   "outputs": [],
   "source": [
    "PATH = r'/Users/peaceforlives/Documents/Projects/cyberbullying/'\n",
    "data = pd.read_pickle(PATH+'final_classification/results/data_docs.pkl')\n",
    "data_docs = pd.read_pickle(PATH+'final_classification/results/full_data.pkl')\n",
    "corona = pd.read_csv(PATH+'corona/corona_tweets_01.csv', header=False)"
   ]
  },
  {
   "cell_type": "code",
   "execution_count": 4,
   "metadata": {},
   "outputs": [
    {
     "data": {
      "text/plain": [
       "(839680, 20)"
      ]
     },
     "execution_count": 4,
     "metadata": {},
     "output_type": "execute_result"
    }
   ],
   "source": [
    "cols = ['bullying_trace', 'bullying_role', 'form_of_bullying', 'bullying_post_type']\n",
    "df = pd.concat([data_docs, data[cols]], axis=1)\n",
    "df.loc[df['bullying_trace']=='no', 'bullying_trace'] = 'NA'\n",
    "df.set_index(pd.to_datetime(df['created_at']), inplace=True)\n",
    "df.drop('created_at', inplace=True, axis=1)\n",
    "df['full_tweet'] = df['full_tweet'].astype(str)\n",
    "\n",
    "df['date'] = [i.date() for i in df.index]\n",
    "df['datestr'] = [i.date().strftime('%Y-%m-%d') for i in df.index]\n",
    "\n",
    "df['time'] = [i.time() for i in df.index]\n",
    "df['hour'] = [i.hour for i in df.index]\n",
    "df['day'] = [i.day for i in df.index]\n",
    "df['wkday'] = [i.weekday() for i in df.index]\n",
    "df['month'] = [i.month for i in df.index]\n",
    "\n",
    "# df = df[df.datestr != '2020-04-01']\n",
    "\n",
    "pd.options.display.max_colwidth = 100\n",
    "df.drop(['source'], axis=1, inplace=True)\n",
    "df.shape"
   ]
  },
  {
   "cell_type": "code",
   "execution_count": 25,
   "metadata": {},
   "outputs": [
    {
     "data": {
      "text/plain": [
       "(7665531, 2)"
      ]
     },
     "execution_count": 25,
     "metadata": {},
     "output_type": "execute_result"
    }
   ],
   "source": [
    "import glob\n",
    "import pandas as pd\n",
    "\n",
    "filenames = glob.glob(PATH+'corona'+ \"/*.csv\")\n",
    "dfs = []\n",
    "for filename in filenames:\n",
    "    dfs.append(pd.read_csv(filename, header=None, names = ['id', 'sentimentscore']))\n",
    "corona = pd.concat(dfs, ignore_index=True)\n",
    "corona.shape"
   ]
  },
  {
   "cell_type": "code",
   "execution_count": 28,
   "metadata": {},
   "outputs": [],
   "source": [
    "corona_id = corona.id.values\n",
    "df_id = df.id.values\n",
    "\n",
    "common = set.intersection(set(df_id), set(corona_id))\n",
    "df_cor = df[df['id'].isin(list(common))]\n",
    "\n",
    "pd.options.display.max_colwidth = 50000\n",
    "df_cor['full_tweet']"
   ]
  },
  {
   "cell_type": "code",
   "execution_count": 39,
   "metadata": {},
   "outputs": [
    {
     "name": "stdout",
     "output_type": "stream",
     "text": [
      "(66, 20)\n"
     ]
    },
    {
     "data": {
      "text/plain": [
       "created_at\n",
       "2019-09-28 21:06:02+00:00                                                                                                                                                                                                    coronation street's asha alahan to be targeted by a school bully https://t.co/n6icn9bbbk\n",
       "2019-09-28 21:07:35+00:00                                                                                                                                                                                                    coronation street's asha alahan to be targeted by a school bully https://t.co/v8kild4yws\n",
       "2019-09-28 22:22:05+00:00                                                                                                                                                                                               coronation street's asha to be targeted by school bully - digital spy https://t.co/2vugfb6eth\n",
       "2019-10-04 19:48:23+00:00    coronation-street captured perfectly 80% of school children, which is all down to social media. we’ve all ruined our children’s perception of beauty there is no hiding no privacy the bullying will follow. no wonder the sucide rates are growing#willneverchange @piersmorgan help us\n",
       "2020-01-28 14:49:22+00:00                                                                                                                                                                                                                                         coronavirus hit ny we bullying asians again fuck it\n",
       "                                                                                                                                                                       ...                                                                                                                                           \n",
       "2020-03-26 06:09:00+00:00                                                                                                                                                        coronavirus outbreak: china must pay for its cover-ups over spread of covid-19, and its bullying - firstpost https://t.co/hvmflisfg8\n",
       "2020-03-26 07:41:01+00:00                                                                                                                                                        coronavirus outbreak: china must pay for its cover-ups over spread of covid-19, and its bullying - firstpost https://t.co/8r0ic2ukbv\n",
       "2020-03-26 08:18:17+00:00                                                                                                                                                        coronavirus outbreak: china must pay for its cover-ups over spread of covid-19, and its bullying - firstpost https://t.co/opcgxtxcuv\n",
       "2020-03-26 16:54:57+00:00                                                                                                                                                        coronavirus outbreak: china must pay for its cover-ups over spread of covid-19, and its bullying - firstpost https://t.co/ululhzjr1s\n",
       "2020-03-27 10:14:28+00:00                                                                                                              coronavirus suspected suicide in nakuru 😣 this lady was bullied in a video going round people calling her \"corona\"\\n#coronstigmake\\n\\nphoto 📸 courtesy https://t.co/j8nffzzshu\n",
       "Name: full_tweet, Length: 66, dtype: object"
      ]
     },
     "execution_count": 39,
     "metadata": {},
     "output_type": "execute_result"
    }
   ],
   "source": [
    "df_cor = df[df['full_tweet'].str.contains('corona')]\n",
    "df_cor = df[df['full_tweet'].str.match('corona')]\n",
    "print(df_cor.shape)\n",
    "df_cor['full_tweet']"
   ]
  },
  {
   "cell_type": "code",
   "execution_count": 4,
   "metadata": {},
   "outputs": [
    {
     "name": "stdout",
     "output_type": "stream",
     "text": [
      "(239847, 20)\n",
      "(236878,)\n",
      "(236878, 20)\n"
     ]
    },
    {
     "name": "stderr",
     "output_type": "stream",
     "text": [
      "//anaconda3/envs/twitter_cyberbullying/lib/python3.7/site-packages/ipykernel_launcher.py:6: SettingWithCopyWarning: \n",
      "A value is trying to be set on a copy of a slice from a DataFrame\n",
      "\n",
      "See the caveats in the documentation: https://pandas.pydata.org/pandas-docs/stable/user_guide/indexing.html#returning-a-view-versus-a-copy\n",
      "  \n"
     ]
    }
   ],
   "source": [
    "pd.options.display.max_colwidth = 500\n",
    "b_trace = df[df['bullying_trace']=='yes']\n",
    "print(b_trace.shape)\n",
    "print(b_trace.full_tweet.unique().shape)\n",
    "\n",
    "b_trace.drop_duplicates(['full_tweet'], inplace=True)\n",
    "print(b_trace.shape)"
   ]
  }
 ],
 "metadata": {
  "kernelspec": {
   "display_name": "Python 3",
   "language": "python",
   "name": "python3"
  },
  "language_info": {
   "codemirror_mode": {
    "name": "ipython",
    "version": 3
   },
   "file_extension": ".py",
   "mimetype": "text/x-python",
   "name": "python",
   "nbconvert_exporter": "python",
   "pygments_lexer": "ipython3",
   "version": "3.7.7"
  }
 },
 "nbformat": 4,
 "nbformat_minor": 4
}
