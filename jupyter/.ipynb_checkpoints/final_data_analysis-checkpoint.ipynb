{
 "cells": [
  {
   "cell_type": "code",
   "execution_count": 3,
   "metadata": {},
   "outputs": [],
   "source": [
    "import glob \n",
    "from pathlib import Path\n",
    "import pandas as pd\n",
    "import os\n",
    "\n",
    "import matplotlib.pyplot as plt"
   ]
  },
  {
   "cell_type": "code",
   "execution_count": 59,
   "metadata": {},
   "outputs": [
    {
     "data": {
      "text/html": [
       "<div>\n",
       "<style scoped>\n",
       "    .dataframe tbody tr th:only-of-type {\n",
       "        vertical-align: middle;\n",
       "    }\n",
       "\n",
       "    .dataframe tbody tr th {\n",
       "        vertical-align: top;\n",
       "    }\n",
       "\n",
       "    .dataframe thead th {\n",
       "        text-align: right;\n",
       "    }\n",
       "</style>\n",
       "<table border=\"1\" class=\"dataframe\">\n",
       "  <thead>\n",
       "    <tr style=\"text-align: right;\">\n",
       "      <th></th>\n",
       "      <th>created_at</th>\n",
       "      <th>id</th>\n",
       "      <th>geo</th>\n",
       "      <th>coordinates</th>\n",
       "      <th>place</th>\n",
       "      <th>lang</th>\n",
       "      <th>full_tweet</th>\n",
       "      <th>bullying_trace</th>\n",
       "      <th>bullying_role</th>\n",
       "      <th>form_of_bullying</th>\n",
       "      <th>bullying_post_type</th>\n",
       "      <th>timezone</th>\n",
       "      <th>localtime</th>\n",
       "      <th>state</th>\n",
       "    </tr>\n",
       "  </thead>\n",
       "  <tbody>\n",
       "    <tr>\n",
       "      <th>0</th>\n",
       "      <td>2019-08-07 14:13:45+00:00</td>\n",
       "      <td>1159105350747901953</td>\n",
       "      <td>None</td>\n",
       "      <td>None</td>\n",
       "      <td>None</td>\n",
       "      <td>en</td>\n",
       "      <td>i mean most @ my school are fine, but the kpop dance club being koreaboos when they see any asian (and especially me being korean-american) are the ones that are rightfully bullied</td>\n",
       "      <td>yes</td>\n",
       "      <td>victim</td>\n",
       "      <td>general</td>\n",
       "      <td>self-disclosure</td>\n",
       "      <td>None</td>\n",
       "      <td>None</td>\n",
       "      <td>None</td>\n",
       "    </tr>\n",
       "    <tr>\n",
       "      <th>1</th>\n",
       "      <td>2019-08-07 14:14:36+00:00</td>\n",
       "      <td>1159105565794217984</td>\n",
       "      <td>None</td>\n",
       "      <td>None</td>\n",
       "      <td>None</td>\n",
       "      <td>en</td>\n",
       "      <td>@dhb_dian @msnbc @joenbc you are showing your low intelligence.  it was done by castro as a bullying tactic, and as a mccarthyite-tactic threat to anyone considering donating in the future, to shut them down!  castro is endangering their lives and he knows it.  but media won't hold him accountable!</td>\n",
       "      <td>no</td>\n",
       "      <td>defender</td>\n",
       "      <td>general</td>\n",
       "      <td>report</td>\n",
       "      <td>None</td>\n",
       "      <td>None</td>\n",
       "      <td>None</td>\n",
       "    </tr>\n",
       "    <tr>\n",
       "      <th>2</th>\n",
       "      <td>2019-08-07 14:14:40+00:00</td>\n",
       "      <td>1159105583246655496</td>\n",
       "      <td>None</td>\n",
       "      <td>None</td>\n",
       "      <td>None</td>\n",
       "      <td>en</td>\n",
       "      <td>@binkybooboos @cricri51391727 @renemyriam1 @nancynofriends @rocking_with_u @lazycat48576974 @max_one_77 @mycatinblack @pbillink @valhall32843068 @lisarroberts @rhubarb_rules @jubisay6 @amara__df @hollyglly @betsywrene @asynja_gem @robintetley @poetcalloway @chrissybug5000 @ncanarchist @faux_dan_ @eddie_drood @envypost @danreed100 @amospictures1 @nessie43 @candypinnow @oppermanreport @didimond @jaimied12 @nina82997364 @dash4442 @jnon_fan @ameetatweet @sweetgeekling @betrayed_bitch @tcu_gofrogs @sos12017 @ddssy @elguapobandz @exposingjacko @evelyne1370 @jacarpb @0pinion8d @pookysoupy @glowtree3 @hssfanme @hellshousewife @mjisguilty i agree - it is a sickness, but being respectful to them and explaining things to them back in march got my account ransacked, my name, my face, my tweets and ss of my youtube account were spread around twitter for other fans to abuse, bully and stalk me so idgaf about them now.</td>\n",
       "      <td>no</td>\n",
       "      <td>reporter</td>\n",
       "      <td>general</td>\n",
       "      <td>accusation</td>\n",
       "      <td>None</td>\n",
       "      <td>None</td>\n",
       "      <td>None</td>\n",
       "    </tr>\n",
       "    <tr>\n",
       "      <th>3</th>\n",
       "      <td>2019-08-07 14:14:47+00:00</td>\n",
       "      <td>1159105611684089856</td>\n",
       "      <td>None</td>\n",
       "      <td>None</td>\n",
       "      <td>None</td>\n",
       "      <td>en</td>\n",
       "      <td>@jayb_1411 that’s why i hate that people now consider that bullying, that made me who i am i use to get scored on all the time when i had braces you gotta be able to laugh at urself</td>\n",
       "      <td>yes</td>\n",
       "      <td>victim</td>\n",
       "      <td>general</td>\n",
       "      <td>self-disclosure</td>\n",
       "      <td>None</td>\n",
       "      <td>None</td>\n",
       "      <td>None</td>\n",
       "    </tr>\n",
       "    <tr>\n",
       "      <th>4</th>\n",
       "      <td>2019-08-07 14:15:07+00:00</td>\n",
       "      <td>1159105696325152768</td>\n",
       "      <td>None</td>\n",
       "      <td>None</td>\n",
       "      <td>None</td>\n",
       "      <td>en</td>\n",
       "      <td>@kate_mma online bullying from kate..sad to see</td>\n",
       "      <td>no</td>\n",
       "      <td>defender</td>\n",
       "      <td>cyber</td>\n",
       "      <td>accusation</td>\n",
       "      <td>None</td>\n",
       "      <td>None</td>\n",
       "      <td>None</td>\n",
       "    </tr>\n",
       "  </tbody>\n",
       "</table>\n",
       "</div>"
      ],
      "text/plain": [
       "                  created_at                   id   geo coordinates place  \\\n",
       "0  2019-08-07 14:13:45+00:00  1159105350747901953  None        None  None   \n",
       "1  2019-08-07 14:14:36+00:00  1159105565794217984  None        None  None   \n",
       "2  2019-08-07 14:14:40+00:00  1159105583246655496  None        None  None   \n",
       "3  2019-08-07 14:14:47+00:00  1159105611684089856  None        None  None   \n",
       "4  2019-08-07 14:15:07+00:00  1159105696325152768  None        None  None   \n",
       "\n",
       "  lang  \\\n",
       "0   en   \n",
       "1   en   \n",
       "2   en   \n",
       "3   en   \n",
       "4   en   \n",
       "\n",
       "                                                                                                                                                                                                                                                                                                                                                                                                                                                                                                                                                                                                                                                                                                                                                                                                                                                                                                                                              full_tweet  \\\n",
       "0                                                                                                                                                                                                                                                                                                                                                                                                                                                                                                                                                                                                                                                                                                                                                                   i mean most @ my school are fine, but the kpop dance club being koreaboos when they see any asian (and especially me being korean-american) are the ones that are rightfully bullied   \n",
       "1                                                                                                                                                                                                                                                                                                                                                                                                                                                                                                                                                                                                                                            @dhb_dian @msnbc @joenbc you are showing your low intelligence.  it was done by castro as a bullying tactic, and as a mccarthyite-tactic threat to anyone considering donating in the future, to shut them down!  castro is endangering their lives and he knows it.  but media won't hold him accountable!   \n",
       "2  @binkybooboos @cricri51391727 @renemyriam1 @nancynofriends @rocking_with_u @lazycat48576974 @max_one_77 @mycatinblack @pbillink @valhall32843068 @lisarroberts @rhubarb_rules @jubisay6 @amara__df @hollyglly @betsywrene @asynja_gem @robintetley @poetcalloway @chrissybug5000 @ncanarchist @faux_dan_ @eddie_drood @envypost @danreed100 @amospictures1 @nessie43 @candypinnow @oppermanreport @didimond @jaimied12 @nina82997364 @dash4442 @jnon_fan @ameetatweet @sweetgeekling @betrayed_bitch @tcu_gofrogs @sos12017 @ddssy @elguapobandz @exposingjacko @evelyne1370 @jacarpb @0pinion8d @pookysoupy @glowtree3 @hssfanme @hellshousewife @mjisguilty i agree - it is a sickness, but being respectful to them and explaining things to them back in march got my account ransacked, my name, my face, my tweets and ss of my youtube account were spread around twitter for other fans to abuse, bully and stalk me so idgaf about them now.   \n",
       "3                                                                                                                                                                                                                                                                                                                                                                                                                                                                                                                                                                                                                                                                                                                                                                  @jayb_1411 that’s why i hate that people now consider that bullying, that made me who i am i use to get scored on all the time when i had braces you gotta be able to laugh at urself   \n",
       "4                                                                                                                                                                                                                                                                                                                                                                                                                                                                                                                                                                                                                                                                                                                                                                                                                                                                                                        @kate_mma online bullying from kate..sad to see   \n",
       "\n",
       "  bullying_trace bullying_role form_of_bullying bullying_post_type timezone  \\\n",
       "0            yes        victim          general    self-disclosure     None   \n",
       "1             no      defender          general             report     None   \n",
       "2             no      reporter          general         accusation     None   \n",
       "3            yes        victim          general    self-disclosure     None   \n",
       "4             no      defender            cyber         accusation     None   \n",
       "\n",
       "  localtime state  \n",
       "0      None  None  \n",
       "1      None  None  \n",
       "2      None  None  \n",
       "3      None  None  \n",
       "4      None  None  "
      ]
     },
     "execution_count": 59,
     "metadata": {},
     "output_type": "execute_result"
    }
   ],
   "source": [
    "PATH = r'/Users/peaceforlives/Documents/Projects/cyberbullying/final_classification/'\n",
    "data = pd.read_pickle(PATH+'data_docs.pkl')\n",
    "data.drop('source', axis=1, inplace=True)\n",
    "data.head()"
   ]
  },
  {
   "cell_type": "code",
   "execution_count": 60,
   "metadata": {},
   "outputs": [
    {
     "data": {
      "text/plain": [
       "no     552600\n",
       "yes    287080\n",
       "Name: bullying_trace, dtype: int64"
      ]
     },
     "execution_count": 60,
     "metadata": {},
     "output_type": "execute_result"
    }
   ],
   "source": [
    "data['bullying_trace'].value_counts()"
   ]
  },
  {
   "cell_type": "code",
   "execution_count": 61,
   "metadata": {},
   "outputs": [
    {
     "data": {
      "text/plain": [
       "(287080, 14)"
      ]
     },
     "execution_count": 61,
     "metadata": {},
     "output_type": "execute_result"
    }
   ],
   "source": [
    "b_trace = data[data['bullying_trace']=='yes']\n",
    "b_trace.shape"
   ]
  },
  {
   "cell_type": "code",
   "execution_count": 63,
   "metadata": {},
   "outputs": [
    {
     "name": "stdout",
     "output_type": "stream",
     "text": [
      "victim      113486\n",
      "reporter     91116\n",
      "defender     62654\n",
      "accuser      16197\n",
      "bully         3171\n",
      "other          456\n",
      "Name: bullying_role, dtype: int64\n",
      "general     195379\n",
      "cyber        90958\n",
      "physical       657\n",
      "verbal          86\n",
      "Name: form_of_bullying, dtype: int64\n",
      "report             117739\n",
      "self-disclosure    102315\n",
      "accusation          67025\n",
      "denial                  1\n",
      "Name: bullying_post_type, dtype: int64\n"
     ]
    }
   ],
   "source": [
    "for column in b_trace.iloc[:,8:11]:\n",
    "    print(b_trace[column].value_counts())"
   ]
  },
  {
   "cell_type": "code",
   "execution_count": 72,
   "metadata": {},
   "outputs": [
    {
     "data": {
      "text/plain": [
       "(3171, 14)"
      ]
     },
     "execution_count": 72,
     "metadata": {},
     "output_type": "execute_result"
    }
   ],
   "source": [
    "pd.options.display.max_colwidth = 50\n",
    "test = b_trace[b_trace['bullying_role']=='bully']\n",
    "# test = b_trace[~b_trace['full_tweet'].str.match('love')]\n",
    "# test.iloc[:,6]\n",
    "test.shape"
   ]
  },
  {
   "cell_type": "code",
   "execution_count": 85,
   "metadata": {},
   "outputs": [
    {
     "data": {
      "text/plain": [
       "(268, 14)"
      ]
     },
     "execution_count": 85,
     "metadata": {},
     "output_type": "execute_result"
    }
   ],
   "source": [
    "geo_data = data[data['timezone'].notnull()]\n",
    "geo_data.shape"
   ]
  },
  {
   "cell_type": "code",
   "execution_count": 87,
   "metadata": {},
   "outputs": [
    {
     "data": {
      "text/html": [
       "<div>\n",
       "<style scoped>\n",
       "    .dataframe tbody tr th:only-of-type {\n",
       "        vertical-align: middle;\n",
       "    }\n",
       "\n",
       "    .dataframe tbody tr th {\n",
       "        vertical-align: top;\n",
       "    }\n",
       "\n",
       "    .dataframe thead th {\n",
       "        text-align: right;\n",
       "    }\n",
       "</style>\n",
       "<table border=\"1\" class=\"dataframe\">\n",
       "  <thead>\n",
       "    <tr style=\"text-align: right;\">\n",
       "      <th></th>\n",
       "      <th>created_at</th>\n",
       "      <th>id</th>\n",
       "      <th>geo</th>\n",
       "      <th>coordinates</th>\n",
       "      <th>place</th>\n",
       "      <th>lang</th>\n",
       "      <th>full_tweet</th>\n",
       "      <th>bullying_trace</th>\n",
       "      <th>bullying_role</th>\n",
       "      <th>form_of_bullying</th>\n",
       "      <th>bullying_post_type</th>\n",
       "      <th>timezone</th>\n",
       "      <th>localtime</th>\n",
       "      <th>state</th>\n",
       "    </tr>\n",
       "  </thead>\n",
       "  <tbody>\n",
       "    <tr>\n",
       "      <th>438</th>\n",
       "      <td>2019-08-07 16:41:16+00:00</td>\n",
       "      <td>1159142476520673281</td>\n",
       "      <td>{'type': 'Point', 'coordinates': [45.518237, -...</td>\n",
       "      <td>{'type': 'Point', 'coordinates': [-122.678249,...</td>\n",
       "      <td>{'id': 'ac88a4f17a51c7fc', 'url': 'https://api...</td>\n",
       "      <td>en</td>\n",
       "      <td>devote your energy to something greater than y...</td>\n",
       "      <td>no</td>\n",
       "      <td>reporter</td>\n",
       "      <td>general</td>\n",
       "      <td>report</td>\n",
       "      <td>America/Los_Angeles</td>\n",
       "      <td>2019-08-07 09:41:16 PDT-0700</td>\n",
       "      <td>Oregon</td>\n",
       "    </tr>\n",
       "    <tr>\n",
       "      <th>1400</th>\n",
       "      <td>2019-08-07 21:54:53+00:00</td>\n",
       "      <td>1159221398172102656</td>\n",
       "      <td>{'type': 'Point', 'coordinates': [42.33922238,...</td>\n",
       "      <td>{'type': 'Point', 'coordinates': [-83.0495277,...</td>\n",
       "      <td>{'id': 'b463d3bd6064861b', 'url': 'https://api...</td>\n",
       "      <td>en</td>\n",
       "      <td>https://t.co/dcgfsfxogy operation #dropoutjeep...</td>\n",
       "      <td>no</td>\n",
       "      <td>accuser</td>\n",
       "      <td>cyber</td>\n",
       "      <td>report</td>\n",
       "      <td>America/Detroit</td>\n",
       "      <td>2019-08-07 17:54:53 EDT-0400</td>\n",
       "      <td>Michigan</td>\n",
       "    </tr>\n",
       "    <tr>\n",
       "      <th>1702</th>\n",
       "      <td>2019-08-07 23:38:51+00:00</td>\n",
       "      <td>1159247564081979392</td>\n",
       "      <td>{'type': 'Point', 'coordinates': [25.7752, -80...</td>\n",
       "      <td>{'type': 'Point', 'coordinates': [-80.192, 25....</td>\n",
       "      <td>{'id': '04cb31bae3b3af93', 'url': 'https://api...</td>\n",
       "      <td>en</td>\n",
       "      <td>performing live at @biglumusic \\notg_fashawn b...</td>\n",
       "      <td>no</td>\n",
       "      <td>reporter</td>\n",
       "      <td>general</td>\n",
       "      <td>report</td>\n",
       "      <td>America/New_York</td>\n",
       "      <td>2019-08-07 19:38:51 EDT-0400</td>\n",
       "      <td>Florida</td>\n",
       "    </tr>\n",
       "    <tr>\n",
       "      <th>3099</th>\n",
       "      <td>2019-08-08 12:02:41+00:00</td>\n",
       "      <td>1159434756318269441</td>\n",
       "      <td>{'type': 'Point', 'coordinates': [25.8067, -80...</td>\n",
       "      <td>{'type': 'Point', 'coordinates': [-80.3477, 25...</td>\n",
       "      <td>{'id': '053ab8e6678199ed', 'url': 'https://api...</td>\n",
       "      <td>en</td>\n",
       "      <td>✔🆓️  parent workshop  sat 8/10 - learn about o...</td>\n",
       "      <td>no</td>\n",
       "      <td>reporter</td>\n",
       "      <td>cyber</td>\n",
       "      <td>report</td>\n",
       "      <td>America/New_York</td>\n",
       "      <td>2019-08-08 08:02:41 EDT-0400</td>\n",
       "      <td>Florida</td>\n",
       "    </tr>\n",
       "    <tr>\n",
       "      <th>4071</th>\n",
       "      <td>2019-08-08 20:05:03+00:00</td>\n",
       "      <td>1159556148153864192</td>\n",
       "      <td>{'type': 'Point', 'coordinates': [33.7675165, ...</td>\n",
       "      <td>{'type': 'Point', 'coordinates': [-118.1995521...</td>\n",
       "      <td>{'id': '01c060cf466c6ce3', 'url': 'https://api...</td>\n",
       "      <td>en</td>\n",
       "      <td>#repost @mjcsolutions\\n• • • • •\\nthis offer i...</td>\n",
       "      <td>no</td>\n",
       "      <td>defender</td>\n",
       "      <td>cyber</td>\n",
       "      <td>accusation</td>\n",
       "      <td>America/Los_Angeles</td>\n",
       "      <td>2019-08-08 13:05:03 PDT-0700</td>\n",
       "      <td>California</td>\n",
       "    </tr>\n",
       "  </tbody>\n",
       "</table>\n",
       "</div>"
      ],
      "text/plain": [
       "                     created_at                   id  \\\n",
       "438   2019-08-07 16:41:16+00:00  1159142476520673281   \n",
       "1400  2019-08-07 21:54:53+00:00  1159221398172102656   \n",
       "1702  2019-08-07 23:38:51+00:00  1159247564081979392   \n",
       "3099  2019-08-08 12:02:41+00:00  1159434756318269441   \n",
       "4071  2019-08-08 20:05:03+00:00  1159556148153864192   \n",
       "\n",
       "                                                    geo  \\\n",
       "438   {'type': 'Point', 'coordinates': [45.518237, -...   \n",
       "1400  {'type': 'Point', 'coordinates': [42.33922238,...   \n",
       "1702  {'type': 'Point', 'coordinates': [25.7752, -80...   \n",
       "3099  {'type': 'Point', 'coordinates': [25.8067, -80...   \n",
       "4071  {'type': 'Point', 'coordinates': [33.7675165, ...   \n",
       "\n",
       "                                            coordinates  \\\n",
       "438   {'type': 'Point', 'coordinates': [-122.678249,...   \n",
       "1400  {'type': 'Point', 'coordinates': [-83.0495277,...   \n",
       "1702  {'type': 'Point', 'coordinates': [-80.192, 25....   \n",
       "3099  {'type': 'Point', 'coordinates': [-80.3477, 25...   \n",
       "4071  {'type': 'Point', 'coordinates': [-118.1995521...   \n",
       "\n",
       "                                                  place lang  \\\n",
       "438   {'id': 'ac88a4f17a51c7fc', 'url': 'https://api...   en   \n",
       "1400  {'id': 'b463d3bd6064861b', 'url': 'https://api...   en   \n",
       "1702  {'id': '04cb31bae3b3af93', 'url': 'https://api...   en   \n",
       "3099  {'id': '053ab8e6678199ed', 'url': 'https://api...   en   \n",
       "4071  {'id': '01c060cf466c6ce3', 'url': 'https://api...   en   \n",
       "\n",
       "                                             full_tweet bullying_trace  \\\n",
       "438   devote your energy to something greater than y...             no   \n",
       "1400  https://t.co/dcgfsfxogy operation #dropoutjeep...             no   \n",
       "1702  performing live at @biglumusic \\notg_fashawn b...             no   \n",
       "3099  ✔🆓️  parent workshop  sat 8/10 - learn about o...             no   \n",
       "4071  #repost @mjcsolutions\\n• • • • •\\nthis offer i...             no   \n",
       "\n",
       "     bullying_role form_of_bullying bullying_post_type             timezone  \\\n",
       "438       reporter          general             report  America/Los_Angeles   \n",
       "1400       accuser            cyber             report      America/Detroit   \n",
       "1702      reporter          general             report     America/New_York   \n",
       "3099      reporter            cyber             report     America/New_York   \n",
       "4071      defender            cyber         accusation  America/Los_Angeles   \n",
       "\n",
       "                         localtime       state  \n",
       "438   2019-08-07 09:41:16 PDT-0700      Oregon  \n",
       "1400  2019-08-07 17:54:53 EDT-0400    Michigan  \n",
       "1702  2019-08-07 19:38:51 EDT-0400     Florida  \n",
       "3099  2019-08-08 08:02:41 EDT-0400     Florida  \n",
       "4071  2019-08-08 13:05:03 PDT-0700  California  "
      ]
     },
     "execution_count": 87,
     "metadata": {},
     "output_type": "execute_result"
    }
   ],
   "source": [
    "pd.options.display.max_colwidth = 1000\n",
    "geo_data.drop(['geo','coordinates','place','lang'], axis=1, inplace=True)"
   ]
  },
  {
   "cell_type": "code",
   "execution_count": 80,
   "metadata": {},
   "outputs": [
    {
     "name": "stdout",
     "output_type": "stream",
     "text": [
      "<class 'pandas.core.frame.DataFrame'>\n",
      "RangeIndex: 839680 entries, 0 to 839679\n",
      "Data columns (total 14 columns):\n",
      " #   Column              Non-Null Count   Dtype \n",
      "---  ------              --------------   ----- \n",
      " 0   created_at          839680 non-null  object\n",
      " 1   id                  839680 non-null  int64 \n",
      " 2   geo                 572 non-null     object\n",
      " 3   coordinates         572 non-null     object\n",
      " 4   place               21526 non-null   object\n",
      " 5   lang                839680 non-null  object\n",
      " 6   full_tweet          839680 non-null  object\n",
      " 7   bullying_trace      839680 non-null  object\n",
      " 8   bullying_role       839680 non-null  object\n",
      " 9   form_of_bullying    839680 non-null  object\n",
      " 10  bullying_post_type  839680 non-null  object\n",
      " 11  timezone            268 non-null     object\n",
      " 12  localtime           268 non-null     object\n",
      " 13  state               268 non-null     object\n",
      "dtypes: int64(1), object(13)\n",
      "memory usage: 89.7+ MB\n"
     ]
    }
   ],
   "source": [
    "data.info()"
   ]
  },
  {
   "cell_type": "code",
   "execution_count": null,
   "metadata": {},
   "outputs": [],
   "source": []
  }
 ],
 "metadata": {
  "kernelspec": {
   "display_name": "Python 3",
   "language": "python",
   "name": "python3"
  },
  "language_info": {
   "codemirror_mode": {
    "name": "ipython",
    "version": 3
   },
   "file_extension": ".py",
   "mimetype": "text/x-python",
   "name": "python",
   "nbconvert_exporter": "python",
   "pygments_lexer": "ipython3",
   "version": "3.7.6"
  }
 },
 "nbformat": 4,
 "nbformat_minor": 4
}
