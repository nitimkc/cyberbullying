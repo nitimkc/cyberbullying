{
 "cells": [
  {
   "cell_type": "code",
   "execution_count": 1,
   "metadata": {},
   "outputs": [],
   "source": [
    "import glob \n",
    "from pathlib import Path\n",
    "import pandas as pd\n",
    "import numpy as np\n",
    "import os\n",
    "\n",
    "import matplotlib.pyplot as plt\n",
    "import matplotlib.dates as mdates"
   ]
  },
  {
   "cell_type": "code",
   "execution_count": 3,
   "metadata": {},
   "outputs": [],
   "source": [
    "PATH = r'/Users/peaceforlives/Documents/Projects/cyberbullying/'\n",
    "data = pd.read_pickle(PATH+'final_classification/results/data_docs.pkl')\n",
    "data_docs = pd.read_pickle(PATH+'final_classification/results/full_data.pkl')\n",
    "# corona = pd.read_csv(PATH+'corona/corona_tweets_01.csv', header=False)"
   ]
  },
  {
   "cell_type": "code",
   "execution_count": 4,
   "metadata": {},
   "outputs": [
    {
     "data": {
      "text/plain": [
       "(839680, 20)"
      ]
     },
     "execution_count": 4,
     "metadata": {},
     "output_type": "execute_result"
    }
   ],
   "source": [
    "cols = ['bullying_trace', 'bullying_role', 'form_of_bullying', 'bullying_post_type']\n",
    "df = pd.concat([data_docs, data[cols]], axis=1)\n",
    "df.loc[df['bullying_trace']=='no', 'bullying_trace'] = 'NA'\n",
    "df.set_index(pd.to_datetime(df['created_at']), inplace=True)\n",
    "df.drop('created_at', inplace=True, axis=1)\n",
    "df['full_tweet'] = df['full_tweet'].astype(str)\n",
    "\n",
    "df['date'] = [i.date() for i in df.index]\n",
    "df['datestr'] = [i.date().strftime('%Y-%m-%d') for i in df.index]\n",
    "\n",
    "df['time'] = [i.time() for i in df.index]\n",
    "df['hour'] = [i.hour for i in df.index]\n",
    "df['day'] = [i.day for i in df.index]\n",
    "df['wkday'] = [i.weekday() for i in df.index]\n",
    "df['month'] = [i.month for i in df.index]\n",
    "\n",
    "# df = df[df.datestr != '2020-04-01']\n",
    "\n",
    "pd.options.display.max_colwidth = 100\n",
    "df.drop(['source'], axis=1, inplace=True)\n",
    "df.shape"
   ]
  },
  {
   "cell_type": "code",
   "execution_count": 5,
   "metadata": {},
   "outputs": [
    {
     "data": {
      "text/plain": [
       "(7665531, 2)"
      ]
     },
     "execution_count": 5,
     "metadata": {},
     "output_type": "execute_result"
    }
   ],
   "source": [
    "import glob\n",
    "import pandas as pd\n",
    "\n",
    "filenames = glob.glob(PATH+'corona'+ \"/*.csv\")\n",
    "dfs = []\n",
    "for filename in filenames:\n",
    "    dfs.append(pd.read_csv(filename, header=None, names = ['id', 'sentimentscore']))\n",
    "corona = pd.concat(dfs, ignore_index=True)\n",
    "corona.shape"
   ]
  },
  {
   "cell_type": "code",
   "execution_count": 6,
   "metadata": {},
   "outputs": [
    {
     "data": {
      "text/plain": [
       "created_at\n",
       "2020-03-19 19:56:30+00:00                                                                                                                    @ryanafournier oh you mean corona virus like the rest of the world calls it. no wait you are a 5 year old annoying bully that tries to make a childish point. for you it's the china virus, if it makes you happy.\n",
       "2020-03-19 21:53:04+00:00                                                                                                                                                                        corona day five: my three-year-old nephews cousin is bullying him, so i sent him a personalized video and told him i’ll come down to texas and beat his ass. 🙃\n",
       "2020-03-20 00:00:04+00:00                                                be creative enough to put an \"e\" to tricycles for them to allow your proposal, else you will be bullied, i mean get a special sermon on wee hours. the sense of urgency filipinos deserved when taal erupted, flight bans were needed amid corona virus outbreak since january #vivico\n",
       "2020-03-20 04:49:19+00:00                                                     “the impact here is that the virus is going to kill more companies than individuals” .... i mean that’s a shaky, unevidenced claim but assuming but not conceding it were true, corona is gonna kill ogilvy? like at least use intelligent analysis if you’re going to be a bully\n",
       "2020-03-20 05:00:01+00:00      @bigbossexpert @zafarkiduniya sana is a celeb. many in your fd have tagged him to curse sid with aids &amp; corona. they age shame him daily. pick on his past. we don't come to bodyshame &amp; bully the fans. we can't force everyone to like sid &amp; we accept it. hiza doesn't tag sana. but you comment in her mentions.\n",
       "2020-03-20 05:00:45+00:00    @rocksol68790921 @zafarkiduniya sana is a celeb. many in their fd have tagged him to curse sid with aids &amp; corona. they age shame him daily. pick on his past. we don't go to bodyshame &amp; bully the fans. we can't force everyone to like sid &amp; we accept it. hiza doesn't tag sana. but they comment in her mentions.\n",
       "2020-03-20 07:57:26+00:00                                                                                                                                                               fuck you corona! we lost our fucking lives because of you dickhead, but i am gonna tell you 1 thing mate. i ain't scared of you. i think you're a fucking bully! idiot.\n",
       "2020-03-20 09:22:33+00:00                                                                                                 every wannabe celebrity who is not following a single guideline for corona virus infection will appear on koffee with karan's next season and share the challenges they went through while being depressed by the online bullying. 😭😭\n",
       "2020-03-20 15:03:14+00:00                                                                                                  sekarang pada mengumpat #coronajancok\\ningat gak baru2 ini kalian nge bully corona n sesumbar kebal pake antangin n kerokan?!\\nnow it's like being beaten up by someone you've just bullied..\\nhow does it feel huh?\\ngo on.. laugh!\n",
       "Name: full_tweet, dtype: object"
      ]
     },
     "execution_count": 6,
     "metadata": {},
     "output_type": "execute_result"
    }
   ],
   "source": [
    "corona_id = corona.id.values\n",
    "df_id = df.id.values\n",
    "\n",
    "common = set.intersection(set(df_id), set(corona_id))\n",
    "df_cor = df[df['id'].isin(list(common))]\n",
    "\n",
    "pd.options.display.max_colwidth = 50000\n",
    "df_cor['full_tweet']"
   ]
  },
  {
   "cell_type": "code",
   "execution_count": 7,
   "metadata": {},
   "outputs": [
    {
     "name": "stdout",
     "output_type": "stream",
     "text": [
      "(1836, 20)\n"
     ]
    },
    {
     "data": {
      "text/plain": [
       "created_at\n",
       "2019-08-09 18:58:14+00:00                                                                                                                                                                                                                                                                                                                                                                                                                                                                                                                                                                                                                                                                                                   @markarum @fblankenshipwsb @lindawsb @jovitamoore @monicawsb @glennburnswsb @bmonahanwsb @bradnitzwsb @tyishawsb @sophiawsb @wendycoronawsb maybe these folks can go sit at middle school lunch tables, especially at the ones where kids are bullied or shunned. 🤔\n",
       "2019-08-24 00:15:09+00:00    @dcoronata @ingersolrobert @google__ads @nimn2019 @beststephen @nc1908neil @david_hanselman @noelturner194 @hvacperformance @tor_lan @mattp1949 @bernardoverda @spock246 @gillesnfio @quantummist @jonlesage4 @jeanjeannie20 @soronya @barbarajdurkin @altus_arc @friendsoscience @shopsmartresist @captain_jimkirk @over400ppm @davidmichaelri8 @graeme__mcguire @4timesayear @wlbeeton @ralphbalexander @rmack2x @tokyo_tom @realdavidjensen @sciencenotdogma @craigthomler @cris_paunescu @vickielouise7 @asinister @trismos @dieterfrikadell @cpernell8521 @frackerdave @frendsjunksci @uvachemistry @geraldkutney @cymaticwave @usanorthcoast @johnpisulamba @atomskssanakan @jeff_luciana 4. what technical questions have you asked me, except some facts about co2 readily available on the net, (tyndall, arrhenius, keeley etc), which you asked in a rude and aggressive manner? so i mocked and then ignored you. i don't respond to bullying tactics.\n",
       "2019-08-25 17:45:55+00:00                                                   @marvinjwagner @atomskssanakan @wlbeeton @markburgerenerg @dcoronata @yourpalharvey @regimechangebc @philamina95 @nimn2019 @jwickers @davidmichaelri8 @captain_jimkirk @mattp1949 @rmack2x @cymaticwave @dieterfrikadell @over400ppm @tokyo_tom @spock246 @david_hanselman @jeanjeannie20 @shopsmartresist @quantummist @jonlesage4 @hvacperformance @soronya @barbarajdurkin @altus_arc @friendsoscience @noelturner194 @graeme__mcguire @4timesayear @ralphbalexander @realdavidjensen @sciencenotdogma @craigthomler @cris_paunescu @vickielouise7 @asinister @trismos @tor_lan @cpernell8521 @frackerdave @frendsjunksci @gillesnfio @uvachemistry @geraldkutney @usanorthcoast @johnpisulamba oh and let me mention that taunting me with your playground bullying is just pathetic. show me a book that isn't utter crap published by a vanity publisher for dembski who was utterly destroyed in open court.\n",
       "2019-08-27 22:01:56+00:00                                                                                                                                                                                                                                                                                                                                                                                                                                                                                                                                                                                                                                                                              if y'all want to fix bullying hate crimes, shootings, the drug crisis,then stop promoting it !! like beer chemicals you see do this are that corona will get its lime !will corona get that lime when that person gets a dui are kill someone ? also pharmaceutical chemicals misleading\n",
       "2019-09-19 16:42:51+00:00                                                                                                                                                                                                                                                                                                                                                                                                                                                                                                                                                                                                                                                                                                                                                                                                                    @jimrome great interview with @tonygonzalez88. but, as we've seen in the jungle, the best way to beat the bully is with @bradincorona level smack.\n",
       "                                                                                                                                                                                                                                                                                                                                                                                                                                                                                                            ...                                                                                                                                                                                                                                                                                                                                                                                                                                                                                \n",
       "2020-04-01 00:54:03+00:00                                                                                                                                                                                                                                                                                                                                                                                                                                                                                                                                                                                                                                                                                                                                                                           i’ve decided the only way to end corona is cyber bullying. \\n\\neverytime i see y’all out of your house hanging out with the homies i’m commenting mean things. i want! this virus! to end!!\n",
       "2020-04-01 03:13:41+00:00                                                                                                                                                                                                                                                                                                                                                                                                                                                                                                                                                                                                                                                                                                                                                                                                                                                                                                       maybe if we bully the coronavirus, it’ll get scared and go away\n",
       "2020-04-01 03:43:12+00:00                                                                                                                                                                                                                                                                                                                                                                                                                                                                                                                                                                                                                                                                        the outbreak of #coronavirus is no excuse for bullying. it is never okay to discriminate against someone because of how they look or where they are from.\\n\\nit's up to each of us to say no to stigma &amp; stand up for each other. spread kindness, not fear.\\n\\nhttps://t.co/9fl3smvqhg 02\n",
       "2020-04-01 03:51:42+00:00                                                                                                                                                                                                                                                                                                                                                                                                                                                                                                                                                                                                                                                                                 question of the day: if i'm making hentai fan-art with corona-chan, what should i do to not look racist? \\n\\na friend of mine got bullied on instagram cuz of it and this ... this makes me question certain things.\\n\\n( also i just woke up - it's 6:50 am) https://t.co/y8oscac5ez\n",
       "2020-04-01 03:53:22+00:00                                                                                                                                                                                                                                                                                                                                                                                                                                                                                                                                                                                                                                                                                                                                                                                                       last week they were being clapped \\nnow it's back to bullying and being threatened \\n\\nnhs staff 'gagged' over coronavirus shortages\\n\\nhttps://t.co/vl4smqhfeg\n",
       "Name: full_tweet, Length: 1836, dtype: object"
      ]
     },
     "execution_count": 7,
     "metadata": {},
     "output_type": "execute_result"
    }
   ],
   "source": [
    "df_cor = df[df['full_tweet'].str.contains('corona')]\n",
    "# df_cor = df[df['full_tweet'].str.match('corona')]\n",
    "print(df_cor.shape)\n",
    "df_cor['full_tweet']"
   ]
  },
  {
   "cell_type": "code",
   "execution_count": 4,
   "metadata": {},
   "outputs": [
    {
     "name": "stdout",
     "output_type": "stream",
     "text": [
      "(239847, 20)\n",
      "(236878,)\n",
      "(236878, 20)\n"
     ]
    },
    {
     "name": "stderr",
     "output_type": "stream",
     "text": [
      "//anaconda3/envs/twitter_cyberbullying/lib/python3.7/site-packages/ipykernel_launcher.py:6: SettingWithCopyWarning: \n",
      "A value is trying to be set on a copy of a slice from a DataFrame\n",
      "\n",
      "See the caveats in the documentation: https://pandas.pydata.org/pandas-docs/stable/user_guide/indexing.html#returning-a-view-versus-a-copy\n",
      "  \n"
     ]
    }
   ],
   "source": [
    "pd.options.display.max_colwidth = 500\n",
    "b_trace = df[df['bullying_trace']=='yes']\n",
    "print(b_trace.shape)\n",
    "print(b_trace.full_tweet.unique().shape)\n",
    "\n",
    "b_trace.drop_duplicates(['full_tweet'], inplace=True)\n",
    "print(b_trace.shape)"
   ]
  }
 ],
 "metadata": {
  "kernelspec": {
   "display_name": "Python 3",
   "language": "python",
   "name": "python3"
  },
  "language_info": {
   "codemirror_mode": {
    "name": "ipython",
    "version": 3
   },
   "file_extension": ".py",
   "mimetype": "text/x-python",
   "name": "python",
   "nbconvert_exporter": "python",
   "pygments_lexer": "ipython3",
   "version": "3.7.7"
  }
 },
 "nbformat": 4,
 "nbformat_minor": 4
}
