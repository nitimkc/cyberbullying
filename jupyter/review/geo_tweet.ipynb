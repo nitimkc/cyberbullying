{
 "cells": [
  {
   "cell_type": "code",
   "execution_count": 6,
   "metadata": {},
   "outputs": [],
   "source": [
    "import glob \n",
    "from pathlib import Path\n",
    "import pandas as pd\n",
    "import os\n",
    "\n",
    "import matplotlib.pyplot as plt"
   ]
  },
  {
   "cell_type": "code",
   "execution_count": 3,
   "metadata": {},
   "outputs": [],
   "source": [
    "PATH = r'/Users/peaceforlives/Documents/Projects/cyberbullying/data'\n",
    "PATH_data = Path(PATH)\n",
    "path_infile = Path.joinpath(PATH_data, 'geotagged_tweets/geotagged_tweets.json')"
   ]
  },
  {
   "cell_type": "code",
   "execution_count": 13,
   "metadata": {},
   "outputs": [
    {
     "data": {
      "text/html": [
       "<div>\n",
       "<style scoped>\n",
       "    .dataframe tbody tr th:only-of-type {\n",
       "        vertical-align: middle;\n",
       "    }\n",
       "\n",
       "    .dataframe tbody tr th {\n",
       "        vertical-align: top;\n",
       "    }\n",
       "\n",
       "    .dataframe thead th {\n",
       "        text-align: right;\n",
       "    }\n",
       "</style>\n",
       "<table border=\"1\" class=\"dataframe\">\n",
       "  <thead>\n",
       "    <tr style=\"text-align: right;\">\n",
       "      <th></th>\n",
       "      <th>id</th>\n",
       "      <th>full_tweet</th>\n",
       "      <th>timezone</th>\n",
       "      <th>state</th>\n",
       "    </tr>\n",
       "    <tr>\n",
       "      <th>localtime</th>\n",
       "      <th></th>\n",
       "      <th></th>\n",
       "      <th></th>\n",
       "      <th></th>\n",
       "    </tr>\n",
       "  </thead>\n",
       "  <tbody>\n",
       "    <tr>\n",
       "      <th>2019-08-07 09:41:16+07:00</th>\n",
       "      <td>1159142476520673281</td>\n",
       "      <td>devote your energy to something greater than y...</td>\n",
       "      <td>America/Los_Angeles</td>\n",
       "      <td>Oregon</td>\n",
       "    </tr>\n",
       "    <tr>\n",
       "      <th>2019-08-07 17:54:53-04:00</th>\n",
       "      <td>1159221398172102656</td>\n",
       "      <td>https://t.co/dcgfsfxogy operation #dropoutjeep...</td>\n",
       "      <td>America/Detroit</td>\n",
       "      <td>Michigan</td>\n",
       "    </tr>\n",
       "    <tr>\n",
       "      <th>2019-08-07 19:38:51-04:00</th>\n",
       "      <td>1159247564081979392</td>\n",
       "      <td>performing live at @biglumusic \\notg_fashawn b...</td>\n",
       "      <td>America/New_York</td>\n",
       "      <td>Florida</td>\n",
       "    </tr>\n",
       "    <tr>\n",
       "      <th>2019-08-08 08:02:41-04:00</th>\n",
       "      <td>1159434756318269441</td>\n",
       "      <td>✔🆓️  parent workshop  sat 8/10 - learn about o...</td>\n",
       "      <td>America/New_York</td>\n",
       "      <td>Florida</td>\n",
       "    </tr>\n",
       "    <tr>\n",
       "      <th>2019-08-07 17:54:53-04:00</th>\n",
       "      <td>1159221398172102656</td>\n",
       "      <td>https://t.co/dcgfsfxogy operation #dropoutjeep...</td>\n",
       "      <td>America/Detroit</td>\n",
       "      <td>Michigan</td>\n",
       "    </tr>\n",
       "  </tbody>\n",
       "</table>\n",
       "</div>"
      ],
      "text/plain": [
       "                                            id  \\\n",
       "localtime                                        \n",
       "2019-08-07 09:41:16+07:00  1159142476520673281   \n",
       "2019-08-07 17:54:53-04:00  1159221398172102656   \n",
       "2019-08-07 19:38:51-04:00  1159247564081979392   \n",
       "2019-08-08 08:02:41-04:00  1159434756318269441   \n",
       "2019-08-07 17:54:53-04:00  1159221398172102656   \n",
       "\n",
       "                                                                  full_tweet  \\\n",
       "localtime                                                                      \n",
       "2019-08-07 09:41:16+07:00  devote your energy to something greater than y...   \n",
       "2019-08-07 17:54:53-04:00  https://t.co/dcgfsfxogy operation #dropoutjeep...   \n",
       "2019-08-07 19:38:51-04:00  performing live at @biglumusic \\notg_fashawn b...   \n",
       "2019-08-08 08:02:41-04:00  ✔🆓️  parent workshop  sat 8/10 - learn about o...   \n",
       "2019-08-07 17:54:53-04:00  https://t.co/dcgfsfxogy operation #dropoutjeep...   \n",
       "\n",
       "                                      timezone     state  \n",
       "localtime                                                 \n",
       "2019-08-07 09:41:16+07:00  America/Los_Angeles    Oregon  \n",
       "2019-08-07 17:54:53-04:00      America/Detroit  Michigan  \n",
       "2019-08-07 19:38:51-04:00     America/New_York   Florida  \n",
       "2019-08-08 08:02:41-04:00     America/New_York   Florida  \n",
       "2019-08-07 17:54:53-04:00      America/Detroit  Michigan  "
      ]
     },
     "execution_count": 13,
     "metadata": {},
     "output_type": "execute_result"
    }
   ],
   "source": [
    "# import tweets with timezone info\n",
    "data = pd.read_json(path_infile, lines=True)\n",
    "data['localtime'] = pd.to_datetime(data['localtime'])\n",
    "data.set_index('localtime', inplace=True)\n",
    "data.head()"
   ]
  },
  {
   "cell_type": "code",
   "execution_count": null,
   "metadata": {},
   "outputs": [],
   "source": []
  }
 ],
 "metadata": {
  "kernelspec": {
   "display_name": "Python 3",
   "language": "python",
   "name": "python3"
  },
  "language_info": {
   "codemirror_mode": {
    "name": "ipython",
    "version": 3
   },
   "file_extension": ".py",
   "mimetype": "text/x-python",
   "name": "python",
   "nbconvert_exporter": "python",
   "pygments_lexer": "ipython3",
   "version": "3.7.6"
  }
 },
 "nbformat": 4,
 "nbformat_minor": 4
}
